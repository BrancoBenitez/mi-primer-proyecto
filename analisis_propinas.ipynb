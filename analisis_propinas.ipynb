{
  "cells": [
    {
      "cell_type": "code",
      "execution_count": null,
      "metadata": {
        "colab": {
          "base_uri": "https://localhost:8080/"
        },
        "id": "2--Bi68A5CAs",
        "outputId": "d99098f7-eda4-4658-c2cf-84d5db019477"
      },
      "outputs": [
        {
          "name": "stdout",
          "output_type": "stream",
          "text": [
            "   total_bill   tip     sex smoker  day    time  size\n",
            "0       16.99  1.01  Female     No  Sun  Dinner     2\n",
            "1       10.34  1.66    Male     No  Sun  Dinner     3\n",
            "2       21.01  3.50    Male     No  Sun  Dinner     3\n",
            "3       23.68  3.31    Male     No  Sun  Dinner     2\n",
            "4       24.59  3.61  Female     No  Sun  Dinner     4\n",
            "       total_bill         tip        size\n",
            "count  244.000000  244.000000  244.000000\n",
            "mean    19.785943    2.998279    2.569672\n",
            "std      8.902412    1.383638    0.951100\n",
            "min      3.070000    1.000000    1.000000\n",
            "25%     13.347500    2.000000    2.000000\n",
            "50%     17.795000    2.900000    2.000000\n",
            "75%     24.127500    3.562500    3.000000\n",
            "max     50.810000   10.000000    6.000000\n",
            "day\n",
            "Fri      51.96\n",
            "Sat     260.40\n",
            "Sun     247.39\n",
            "Thur    171.83\n",
            "Name: tip, dtype: float64\n"
          ]
        }
      ],
      "source": [
        "import pandas as pd\n",
        "\n",
        "# Cargar dataset de ejemplo\n",
        "url = \"https://raw.githubusercontent.com/mwaskom/seaborn-data/master/tips.csv\"\n",
        "df = pd.read_csv(url)\n",
        "\n",
        "# Mostrar las primeras filas\n",
        "print(df.head())\n",
        "\n",
        "# Estadísticas básicas\n",
        "print(df.describe())\n",
        "\n",
        "# Total de propinas por día\n",
        "print(df.groupby('day')['tip'].sum())\n",
        "\n",
        "import seaborn as sns\n",
        "import matplotlib.pyplot as plt\n",
        "\n",
        "# Estilo visual\n",
        "sns.set(style=\"whitegrid\")\n",
        "\n",
        "# Gráfico de barras: propina promedio por día\n",
        "plt.figure(figsize=(8, 5))\n",
        "sns.barplot(data=df, x=\"day\", y=\"tip\", estimator='mean', ci=None, palette=\"Blues_d\")\n",
        "plt.title(\"Propina promedio por día de la semana\")\n",
        "plt.xlabel(\"Día\")\n",
        "plt.ylabel(\"Propina promedio ($)\")\n",
        "plt.tight_layout()\n",
        "plt.show()\n"
      ]
    }
  ],
  "metadata": {
    "colab": {
      "provenance": []
    },
    "kernelspec": {
      "display_name": "Python 3",
      "name": "python3"
    },
    "language_info": {
      "name": "python"
    }
  },
  "nbformat": 4,
  "nbformat_minor": 0
}
